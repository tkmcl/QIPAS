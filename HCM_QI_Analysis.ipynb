{
 "cells": [
  {
   "cell_type": "markdown",
   "metadata": {},
   "source": [
    "# HCM Crawler\n",
    "v3\n",
    "<br>\n",
    "- Extract DHI features (FEATURES)\n",
    "- Extra well data info (LABELS)\n",
    "- ML on features vs labels\n",
    "- No production correction\n",
    "- Test data: DanauBubut\n",
    "- Legacy large-scale maps\n",
    "- <b> Use v3 of Fan's code</b>"
   ]
  },
  {
   "cell_type": "markdown",
   "metadata": {},
   "source": [
    "## Import libraries"
   ]
  },
  {
   "cell_type": "code",
   "execution_count": 2,
   "metadata": {
    "collapsed": true
   },
   "outputs": [],
   "source": [
    "import time\n",
    "import pandas as pd\n",
    "from matplotlib import pyplot as plt\n",
    "from scipy import ndimage\n",
    "import numpy as np\n",
    "import seaborn as sns\n",
    "from os import listdir\n",
    "from os.path import isfile, join\n",
    "from scipy.interpolate import interp1d\n",
    "from scipy.interpolate import interp2d\n",
    "import re\n",
    "import os\n",
    "import math\n",
    "import scipy.stats as stats\n",
    "import pylab as pl\n",
    "import matplotlib.mlab as mlab"
   ]
  },
  {
   "cell_type": "code",
   "execution_count": 3,
   "metadata": {
    "collapsed": true
   },
   "outputs": [],
   "source": [
    "from HCM_QI_analysis_v3 import *"
   ]
  },
  {
   "cell_type": "markdown",
   "metadata": {},
   "source": [
    "## Set data locations"
   ]
  },
  {
   "cell_type": "code",
   "execution_count": 4,
   "metadata": {
    "collapsed": true
   },
   "outputs": [],
   "source": [
    "input_dir_maps_amp_full='input/DaBu/maps/amp/legacy/full/'\n",
    "input_dir_maps_amp_near='input/DaBu/maps/amp/legacy/near/'\n",
    "input_dir_maps_amp_far='input/DaBu/maps/amp/legacy/far/'\n",
    "input_dir_maps_dep='input/DaBu/maps/depth/legacy/'\n",
    "input_dir_polys='input/DaBu/polygons/legacy/'\n",
    "input_dir_wells='input/'\n",
    "input_dir_props='input/'"
   ]
  },
  {
   "cell_type": "markdown",
   "metadata": {},
   "source": [
    "## Get maps"
   ]
  },
  {
   "cell_type": "markdown",
   "metadata": {},
   "source": [
    "#### Define all sands and blocks"
   ]
  },
  {
   "cell_type": "code",
   "execution_count": 5,
   "metadata": {
    "collapsed": true
   },
   "outputs": [],
   "source": [
    "sands=['M10','M50','AB','A1','A2']"
   ]
  },
  {
   "cell_type": "markdown",
   "metadata": {},
   "source": [
    "#### Get list of maps that exist"
   ]
  },
  {
   "cell_type": "code",
   "execution_count": 6,
   "metadata": {},
   "outputs": [
    {
     "name": "stdout",
     "output_type": "stream",
     "text": [
      "Amplitude maps found:\n",
      "Full :5\n",
      "Near :5\n",
      "Far  :5\n"
     ]
    }
   ],
   "source": [
    "mapfiles_amp_full = [m for m in listdir(input_dir_maps_amp_full) if isfile(join(input_dir_maps_amp_full, m))]\n",
    "mapfiles_amp_near = [m for m in listdir(input_dir_maps_amp_near) if isfile(join(input_dir_maps_amp_near, m))]\n",
    "mapfiles_amp_far = [m for m in listdir(input_dir_maps_amp_far) if isfile(join(input_dir_maps_amp_far, m))]\n",
    "print('Amplitude maps found:')\n",
    "print('Full :'+str(len(mapfiles_amp_full)))\n",
    "print('Near :'+str(len(mapfiles_amp_near)))\n",
    "print('Far  :'+str(len(mapfiles_amp_far)))"
   ]
  },
  {
   "cell_type": "markdown",
   "metadata": {},
   "source": [
    "#### Get list of sand-block combinations that exist"
   ]
  },
  {
   "cell_type": "code",
   "execution_count": 7,
   "metadata": {},
   "outputs": [
    {
     "data": {
      "text/html": [
       "<div>\n",
       "<style scoped>\n",
       "    .dataframe tbody tr th:only-of-type {\n",
       "        vertical-align: middle;\n",
       "    }\n",
       "\n",
       "    .dataframe tbody tr th {\n",
       "        vertical-align: top;\n",
       "    }\n",
       "\n",
       "    .dataframe thead th {\n",
       "        text-align: right;\n",
       "    }\n",
       "</style>\n",
       "<table border=\"1\" class=\"dataframe\">\n",
       "  <thead>\n",
       "    <tr style=\"text-align: right;\">\n",
       "      <th></th>\n",
       "      <th>sand</th>\n",
       "      <th>map_amp</th>\n",
       "    </tr>\n",
       "  </thead>\n",
       "  <tbody>\n",
       "    <tr>\n",
       "      <th>0</th>\n",
       "      <td>M10</td>\n",
       "      <td>nldvao_004_92_12PrDMf_psAI_M10_SEED_t_filled_M...</td>\n",
       "    </tr>\n",
       "    <tr>\n",
       "      <th>1</th>\n",
       "      <td>M50</td>\n",
       "      <td>nldvao_008_92_12PrDMf_psAI_M50_SEED_t_filled_M...</td>\n",
       "    </tr>\n",
       "    <tr>\n",
       "      <th>2</th>\n",
       "      <td>AB</td>\n",
       "      <td>nldvao_013_92_12PrDMf_psAI_AB_SEED_t_filled_MC...</td>\n",
       "    </tr>\n",
       "    <tr>\n",
       "      <th>3</th>\n",
       "      <td>A1</td>\n",
       "      <td>nldvao_014_92_12PrDMf_psAI_A1_SEED_t_filled_MC...</td>\n",
       "    </tr>\n",
       "    <tr>\n",
       "      <th>4</th>\n",
       "      <td>A2</td>\n",
       "      <td>nldvao_015_92_12PrDMf_psAI_A2_SEED_t_filled_MC...</td>\n",
       "    </tr>\n",
       "  </tbody>\n",
       "</table>\n",
       "</div>"
      ],
      "text/plain": [
       "  sand                                            map_amp\n",
       "0  M10  nldvao_004_92_12PrDMf_psAI_M10_SEED_t_filled_M...\n",
       "1  M50  nldvao_008_92_12PrDMf_psAI_M50_SEED_t_filled_M...\n",
       "2   AB  nldvao_013_92_12PrDMf_psAI_AB_SEED_t_filled_MC...\n",
       "3   A1  nldvao_014_92_12PrDMf_psAI_A1_SEED_t_filled_MC...\n",
       "4   A2  nldvao_015_92_12PrDMf_psAI_A2_SEED_t_filled_MC..."
      ]
     },
     "execution_count": 7,
     "metadata": {},
     "output_type": "execute_result"
    }
   ],
   "source": [
    "sand_block_combis_sands=[]\n",
    "sand_block_combis_blocks=[]\n",
    "sand_block_combis_maps=[]\n",
    "#\n",
    "map_type='AMRMS'\n",
    "#\n",
    "for thismap in mapfiles_amp_full:\n",
    "    #\n",
    "    # if the map is of the type we're interested in:\n",
    "    if map_type in thismap.split('_')[1:]:\n",
    "        #\n",
    "        sand_block_combis_maps.append(thismap)\n",
    "        #\n",
    "        found_sand=False\n",
    "        for sand in sands:\n",
    "            if sand in thismap.split('_')[1:]:\n",
    "                sand_block_combis_sands.append(sand)\n",
    "                found_sand=True\n",
    "        #\n",
    "        # flag if any errors\n",
    "        if not(found_sand): \n",
    "            raise Exception(\"### Sand/Block naming problem for \"+str(thismap))\n",
    "#\n",
    "# construct df\n",
    "dm = pd.DataFrame([sand_block_combis_sands,sand_block_combis_maps]).T\n",
    "dm.columns=['sand','map_amp']\n",
    "#\n",
    "# show sand-block combis\n",
    "dm"
   ]
  },
  {
   "cell_type": "markdown",
   "metadata": {},
   "source": [
    "#### Load the depth maps"
   ]
  },
  {
   "cell_type": "code",
   "execution_count": 8,
   "metadata": {},
   "outputs": [
    {
     "name": "stdout",
     "output_type": "stream",
     "text": [
      "Depth maps found:\n",
      "5\n"
     ]
    }
   ],
   "source": [
    "mapfiles_depth = [m for m in listdir(input_dir_maps_dep) if isfile(join(input_dir_maps_dep, m))]\n",
    "print('Depth maps found:')\n",
    "print(str(len(mapfiles_depth)))"
   ]
  },
  {
   "cell_type": "markdown",
   "metadata": {},
   "source": [
    "#### Add the depth maps"
   ]
  },
  {
   "cell_type": "code",
   "execution_count": 9,
   "metadata": {},
   "outputs": [
    {
     "data": {
      "text/plain": [
       "['nldvao_004_92_12PrDMf_psAI_M10_SEED_t_filled_MC_Zor_d_2016PSDM_scl100',\n",
       " 'nldvao_008_92_12PrDMf_psAI_M50_SEED_t_filled_MC_Zor_d_2016PSDM_scl100',\n",
       " 'nldvao_013_92_12PrDMf_psAI_AB_SEED_t_filled_MC_Zor_d_2016PSDM_scl100',\n",
       " 'nldvao_014_92_12PrDMf_psAI_A1_SEED_t_filled_MC_Zor_d_2016PSDM_scl100',\n",
       " 'nldvao_015_92_12PrDMf_psAI_A2_SEED_t_filled_MC_Zor_d_2016PSDM_scl100']"
      ]
     },
     "execution_count": 9,
     "metadata": {},
     "output_type": "execute_result"
    }
   ],
   "source": [
    "mapfiles_depth"
   ]
  },
  {
   "cell_type": "code",
   "execution_count": 10,
   "metadata": {
    "collapsed": true
   },
   "outputs": [],
   "source": [
    "dm['map_dep']=''\n",
    "for row in range(len(dm)):\n",
    "    #\n",
    "    for depthmap in mapfiles_depth:\n",
    "        if dm.iloc[row]['sand'] in depthmap:\n",
    "            thisdepthmap=depthmap\n",
    "    #\n",
    "    dm.iloc[row,dm.columns.get_loc('map_dep')]=thisdepthmap"
   ]
  },
  {
   "cell_type": "code",
   "execution_count": 11,
   "metadata": {},
   "outputs": [
    {
     "data": {
      "text/html": [
       "<div>\n",
       "<style scoped>\n",
       "    .dataframe tbody tr th:only-of-type {\n",
       "        vertical-align: middle;\n",
       "    }\n",
       "\n",
       "    .dataframe tbody tr th {\n",
       "        vertical-align: top;\n",
       "    }\n",
       "\n",
       "    .dataframe thead th {\n",
       "        text-align: right;\n",
       "    }\n",
       "</style>\n",
       "<table border=\"1\" class=\"dataframe\">\n",
       "  <thead>\n",
       "    <tr style=\"text-align: right;\">\n",
       "      <th></th>\n",
       "      <th>sand</th>\n",
       "      <th>map_amp</th>\n",
       "      <th>map_dep</th>\n",
       "    </tr>\n",
       "  </thead>\n",
       "  <tbody>\n",
       "    <tr>\n",
       "      <th>0</th>\n",
       "      <td>M10</td>\n",
       "      <td>nldvao_004_92_12PrDMf_psAI_M10_SEED_t_filled_M...</td>\n",
       "      <td>nldvao_004_92_12PrDMf_psAI_M10_SEED_t_filled_M...</td>\n",
       "    </tr>\n",
       "    <tr>\n",
       "      <th>1</th>\n",
       "      <td>M50</td>\n",
       "      <td>nldvao_008_92_12PrDMf_psAI_M50_SEED_t_filled_M...</td>\n",
       "      <td>nldvao_008_92_12PrDMf_psAI_M50_SEED_t_filled_M...</td>\n",
       "    </tr>\n",
       "    <tr>\n",
       "      <th>2</th>\n",
       "      <td>AB</td>\n",
       "      <td>nldvao_013_92_12PrDMf_psAI_AB_SEED_t_filled_MC...</td>\n",
       "      <td>nldvao_013_92_12PrDMf_psAI_AB_SEED_t_filled_MC...</td>\n",
       "    </tr>\n",
       "    <tr>\n",
       "      <th>3</th>\n",
       "      <td>A1</td>\n",
       "      <td>nldvao_014_92_12PrDMf_psAI_A1_SEED_t_filled_MC...</td>\n",
       "      <td>nldvao_014_92_12PrDMf_psAI_A1_SEED_t_filled_MC...</td>\n",
       "    </tr>\n",
       "    <tr>\n",
       "      <th>4</th>\n",
       "      <td>A2</td>\n",
       "      <td>nldvao_015_92_12PrDMf_psAI_A2_SEED_t_filled_MC...</td>\n",
       "      <td>nldvao_015_92_12PrDMf_psAI_A2_SEED_t_filled_MC...</td>\n",
       "    </tr>\n",
       "  </tbody>\n",
       "</table>\n",
       "</div>"
      ],
      "text/plain": [
       "  sand                                            map_amp  \\\n",
       "0  M10  nldvao_004_92_12PrDMf_psAI_M10_SEED_t_filled_M...   \n",
       "1  M50  nldvao_008_92_12PrDMf_psAI_M50_SEED_t_filled_M...   \n",
       "2   AB  nldvao_013_92_12PrDMf_psAI_AB_SEED_t_filled_MC...   \n",
       "3   A1  nldvao_014_92_12PrDMf_psAI_A1_SEED_t_filled_MC...   \n",
       "4   A2  nldvao_015_92_12PrDMf_psAI_A2_SEED_t_filled_MC...   \n",
       "\n",
       "                                             map_dep  \n",
       "0  nldvao_004_92_12PrDMf_psAI_M10_SEED_t_filled_M...  \n",
       "1  nldvao_008_92_12PrDMf_psAI_M50_SEED_t_filled_M...  \n",
       "2  nldvao_013_92_12PrDMf_psAI_AB_SEED_t_filled_MC...  \n",
       "3  nldvao_014_92_12PrDMf_psAI_A1_SEED_t_filled_MC...  \n",
       "4  nldvao_015_92_12PrDMf_psAI_A2_SEED_t_filled_MC...  "
      ]
     },
     "execution_count": 11,
     "metadata": {},
     "output_type": "execute_result"
    }
   ],
   "source": [
    "dm"
   ]
  },
  {
   "cell_type": "markdown",
   "metadata": {},
   "source": [
    "## Get polygons"
   ]
  },
  {
   "cell_type": "markdown",
   "metadata": {},
   "source": [
    "## Execute DHI analysis per sand and block"
   ]
  },
  {
   "cell_type": "code",
   "execution_count": 14,
   "metadata": {},
   "outputs": [
    {
     "name": "stdout",
     "output_type": "stream",
     "text": [
      "\n",
      "\n",
      "-------------------------------------------------------------------------------\n",
      "Analyzing sand M10\n",
      "-------------------------------------------------------------------------------\n"
     ]
    },
    {
     "ename": "FileNotFoundError",
     "evalue": "File b'C:/Apps/Ddrive_BSP_Projects/NDI_cmap/Jason_AI_Map_254.cmap' does not exist",
     "output_type": "error",
     "traceback": [
      "\u001b[1;31m---------------------------------------------------------------------------\u001b[0m",
      "\u001b[1;31mFileNotFoundError\u001b[0m                         Traceback (most recent call last)",
      "\u001b[1;32m<ipython-input-14-7690175a2938>\u001b[0m in \u001b[0;36m<module>\u001b[1;34m()\u001b[0m\n\u001b[0;32m     16\u001b[0m     \u001b[0mproperties\u001b[0m\u001b[1;33m=\u001b[0m\u001b[0minput_dir_props\u001b[0m\u001b[1;33m+\u001b[0m\u001b[1;34m'wells_sands_properties.csv'\u001b[0m\u001b[1;33m\u001b[0m\u001b[0m\n\u001b[0;32m     17\u001b[0m     \u001b[1;31m#\u001b[0m\u001b[1;33m\u001b[0m\u001b[1;33m\u001b[0m\u001b[0m\n\u001b[1;32m---> 18\u001b[1;33m     \u001b[0md_tmp\u001b[0m\u001b[1;33m=\u001b[0m\u001b[0mDHI_analysis_v3\u001b[0m\u001b[1;33m(\u001b[0m\u001b[0mmap_depth\u001b[0m\u001b[1;33m,\u001b[0m\u001b[0mmap_amp_full\u001b[0m\u001b[1;33m,\u001b[0m\u001b[0mmap_amp_far\u001b[0m\u001b[1;33m,\u001b[0m\u001b[0mmap_amp_near\u001b[0m\u001b[1;33m,\u001b[0m\u001b[0mpolygon\u001b[0m\u001b[1;33m,\u001b[0m\u001b[0mproperties\u001b[0m\u001b[1;33m,\u001b[0m\u001b[0mdm\u001b[0m\u001b[1;33m.\u001b[0m\u001b[0miloc\u001b[0m\u001b[1;33m[\u001b[0m\u001b[0mrow\u001b[0m\u001b[1;33m]\u001b[0m\u001b[1;33m[\u001b[0m\u001b[1;34m'sand'\u001b[0m\u001b[1;33m]\u001b[0m\u001b[1;33m,\u001b[0m\u001b[1;34m'tmpQI'\u001b[0m\u001b[1;33m)\u001b[0m\u001b[1;33m\u001b[0m\u001b[0m\n\u001b[0m\u001b[0;32m     19\u001b[0m     \u001b[1;31m#\u001b[0m\u001b[1;33m\u001b[0m\u001b[1;33m\u001b[0m\u001b[0m\n\u001b[0;32m     20\u001b[0m     \u001b[0md_tmp\u001b[0m\u001b[1;33m[\u001b[0m\u001b[1;34m'sand'\u001b[0m\u001b[1;33m]\u001b[0m\u001b[1;33m=\u001b[0m\u001b[0mdm\u001b[0m\u001b[1;33m.\u001b[0m\u001b[0miloc\u001b[0m\u001b[1;33m[\u001b[0m\u001b[0mrow\u001b[0m\u001b[1;33m]\u001b[0m\u001b[1;33m[\u001b[0m\u001b[1;34m'sand'\u001b[0m\u001b[1;33m]\u001b[0m\u001b[1;33m\u001b[0m\u001b[0m\n",
      "\u001b[1;32mQ:\\ML\\Projects\\HCM_crawler\\HCM_QI_analysis_v3.py\u001b[0m in \u001b[0;36mDHI_analysis_v3\u001b[1;34m(f_dep, f_amp, f_amp_far, f_amp_near, polygon_file, fajar_property_database, well_top, output_dir)\u001b[0m\n\u001b[0;32m     48\u001b[0m     \u001b[1;32mif\u001b[0m \u001b[1;32mnot\u001b[0m \u001b[0mos\u001b[0m\u001b[1;33m.\u001b[0m\u001b[0mpath\u001b[0m\u001b[1;33m.\u001b[0m\u001b[0mexists\u001b[0m\u001b[1;33m(\u001b[0m\u001b[0moutpath\u001b[0m\u001b[1;33m)\u001b[0m\u001b[1;33m:\u001b[0m\u001b[1;33m\u001b[0m\u001b[0m\n\u001b[0;32m     49\u001b[0m         \u001b[0mos\u001b[0m\u001b[1;33m.\u001b[0m\u001b[0mmakedirs\u001b[0m\u001b[1;33m(\u001b[0m\u001b[0moutpath\u001b[0m\u001b[1;33m)\u001b[0m\u001b[1;33m\u001b[0m\u001b[0m\n\u001b[1;32m---> 50\u001b[1;33m     \u001b[0mcmap\u001b[0m\u001b[1;33m,\u001b[0m\u001b[0mcmap_r\u001b[0m\u001b[1;33m=\u001b[0m\u001b[0mimport_ndi_cm\u001b[0m\u001b[1;33m(\u001b[0m\u001b[0mcmap_file\u001b[0m\u001b[1;33m)\u001b[0m\u001b[1;33m\u001b[0m\u001b[0m\n\u001b[0m\u001b[0;32m     51\u001b[0m     \u001b[1;31m#################################################################################\u001b[0m\u001b[1;33m\u001b[0m\u001b[1;33m\u001b[0m\u001b[0m\n\u001b[0;32m     52\u001b[0m     \u001b[1;34m''''## step1: load data'''\u001b[0m\u001b[1;33m\u001b[0m\u001b[0m\n",
      "\u001b[1;32mQ:\\ML\\Projects\\HCM_crawler\\HCM_QI_analysis_v3.py\u001b[0m in \u001b[0;36mimport_ndi_cm\u001b[1;34m(cmap_file)\u001b[0m\n\u001b[0;32m    662\u001b[0m \u001b[1;31m# import a ndi color map to python\u001b[0m\u001b[1;33m\u001b[0m\u001b[1;33m\u001b[0m\u001b[0m\n\u001b[0;32m    663\u001b[0m \u001b[1;32mdef\u001b[0m \u001b[0mimport_ndi_cm\u001b[0m\u001b[1;33m(\u001b[0m\u001b[0mcmap_file\u001b[0m\u001b[1;33m)\u001b[0m\u001b[1;33m:\u001b[0m\u001b[1;33m\u001b[0m\u001b[0m\n\u001b[1;32m--> 664\u001b[1;33m     \u001b[0mdf_cm\u001b[0m \u001b[1;33m=\u001b[0m \u001b[0mpd\u001b[0m\u001b[1;33m.\u001b[0m\u001b[0mread_table\u001b[0m\u001b[1;33m(\u001b[0m\u001b[0mcmap_file\u001b[0m\u001b[1;33m,\u001b[0m\u001b[0mdelim_whitespace\u001b[0m\u001b[1;33m=\u001b[0m\u001b[1;32mTrue\u001b[0m\u001b[1;33m,\u001b[0m\u001b[0mheader\u001b[0m\u001b[1;33m=\u001b[0m\u001b[1;32mNone\u001b[0m\u001b[1;33m,\u001b[0m\u001b[0mskiprows\u001b[0m\u001b[1;33m=\u001b[0m\u001b[1;36m1\u001b[0m\u001b[1;33m)\u001b[0m\u001b[1;33m\u001b[0m\u001b[0m\n\u001b[0m\u001b[0;32m    665\u001b[0m     \u001b[0mcolor\u001b[0m\u001b[1;33m=\u001b[0m\u001b[1;33m[\u001b[0m\u001b[1;33m]\u001b[0m\u001b[1;33m\u001b[0m\u001b[0m\n\u001b[0;32m    666\u001b[0m     \u001b[1;32mfor\u001b[0m \u001b[0midx\u001b[0m \u001b[1;32min\u001b[0m \u001b[0mrange\u001b[0m\u001b[1;33m(\u001b[0m\u001b[1;36m0\u001b[0m\u001b[1;33m,\u001b[0m\u001b[0mlen\u001b[0m\u001b[1;33m(\u001b[0m\u001b[0mdf_cm\u001b[0m\u001b[1;33m)\u001b[0m\u001b[1;33m)\u001b[0m\u001b[1;33m:\u001b[0m\u001b[1;33m\u001b[0m\u001b[0m\n",
      "\u001b[1;32mC:\\Apps\\Anaconda\\envs\\py36\\lib\\site-packages\\pandas\\io\\parsers.py\u001b[0m in \u001b[0;36mparser_f\u001b[1;34m(filepath_or_buffer, sep, delimiter, header, names, index_col, usecols, squeeze, prefix, mangle_dupe_cols, dtype, engine, converters, true_values, false_values, skipinitialspace, skiprows, nrows, na_values, keep_default_na, na_filter, verbose, skip_blank_lines, parse_dates, infer_datetime_format, keep_date_col, date_parser, dayfirst, iterator, chunksize, compression, thousands, decimal, lineterminator, quotechar, quoting, escapechar, comment, encoding, dialect, tupleize_cols, error_bad_lines, warn_bad_lines, skipfooter, skip_footer, doublequote, delim_whitespace, as_recarray, compact_ints, use_unsigned, low_memory, buffer_lines, memory_map, float_precision)\u001b[0m\n\u001b[0;32m    707\u001b[0m                     skip_blank_lines=skip_blank_lines)\n\u001b[0;32m    708\u001b[0m \u001b[1;33m\u001b[0m\u001b[0m\n\u001b[1;32m--> 709\u001b[1;33m         \u001b[1;32mreturn\u001b[0m \u001b[0m_read\u001b[0m\u001b[1;33m(\u001b[0m\u001b[0mfilepath_or_buffer\u001b[0m\u001b[1;33m,\u001b[0m \u001b[0mkwds\u001b[0m\u001b[1;33m)\u001b[0m\u001b[1;33m\u001b[0m\u001b[0m\n\u001b[0m\u001b[0;32m    710\u001b[0m \u001b[1;33m\u001b[0m\u001b[0m\n\u001b[0;32m    711\u001b[0m     \u001b[0mparser_f\u001b[0m\u001b[1;33m.\u001b[0m\u001b[0m__name__\u001b[0m \u001b[1;33m=\u001b[0m \u001b[0mname\u001b[0m\u001b[1;33m\u001b[0m\u001b[0m\n",
      "\u001b[1;32mC:\\Apps\\Anaconda\\envs\\py36\\lib\\site-packages\\pandas\\io\\parsers.py\u001b[0m in \u001b[0;36m_read\u001b[1;34m(filepath_or_buffer, kwds)\u001b[0m\n\u001b[0;32m    447\u001b[0m \u001b[1;33m\u001b[0m\u001b[0m\n\u001b[0;32m    448\u001b[0m     \u001b[1;31m# Create the parser.\u001b[0m\u001b[1;33m\u001b[0m\u001b[1;33m\u001b[0m\u001b[0m\n\u001b[1;32m--> 449\u001b[1;33m     \u001b[0mparser\u001b[0m \u001b[1;33m=\u001b[0m \u001b[0mTextFileReader\u001b[0m\u001b[1;33m(\u001b[0m\u001b[0mfilepath_or_buffer\u001b[0m\u001b[1;33m,\u001b[0m \u001b[1;33m**\u001b[0m\u001b[0mkwds\u001b[0m\u001b[1;33m)\u001b[0m\u001b[1;33m\u001b[0m\u001b[0m\n\u001b[0m\u001b[0;32m    450\u001b[0m \u001b[1;33m\u001b[0m\u001b[0m\n\u001b[0;32m    451\u001b[0m     \u001b[1;32mif\u001b[0m \u001b[0mchunksize\u001b[0m \u001b[1;32mor\u001b[0m \u001b[0miterator\u001b[0m\u001b[1;33m:\u001b[0m\u001b[1;33m\u001b[0m\u001b[0m\n",
      "\u001b[1;32mC:\\Apps\\Anaconda\\envs\\py36\\lib\\site-packages\\pandas\\io\\parsers.py\u001b[0m in \u001b[0;36m__init__\u001b[1;34m(self, f, engine, **kwds)\u001b[0m\n\u001b[0;32m    816\u001b[0m             \u001b[0mself\u001b[0m\u001b[1;33m.\u001b[0m\u001b[0moptions\u001b[0m\u001b[1;33m[\u001b[0m\u001b[1;34m'has_index_names'\u001b[0m\u001b[1;33m]\u001b[0m \u001b[1;33m=\u001b[0m \u001b[0mkwds\u001b[0m\u001b[1;33m[\u001b[0m\u001b[1;34m'has_index_names'\u001b[0m\u001b[1;33m]\u001b[0m\u001b[1;33m\u001b[0m\u001b[0m\n\u001b[0;32m    817\u001b[0m \u001b[1;33m\u001b[0m\u001b[0m\n\u001b[1;32m--> 818\u001b[1;33m         \u001b[0mself\u001b[0m\u001b[1;33m.\u001b[0m\u001b[0m_make_engine\u001b[0m\u001b[1;33m(\u001b[0m\u001b[0mself\u001b[0m\u001b[1;33m.\u001b[0m\u001b[0mengine\u001b[0m\u001b[1;33m)\u001b[0m\u001b[1;33m\u001b[0m\u001b[0m\n\u001b[0m\u001b[0;32m    819\u001b[0m \u001b[1;33m\u001b[0m\u001b[0m\n\u001b[0;32m    820\u001b[0m     \u001b[1;32mdef\u001b[0m \u001b[0mclose\u001b[0m\u001b[1;33m(\u001b[0m\u001b[0mself\u001b[0m\u001b[1;33m)\u001b[0m\u001b[1;33m:\u001b[0m\u001b[1;33m\u001b[0m\u001b[0m\n",
      "\u001b[1;32mC:\\Apps\\Anaconda\\envs\\py36\\lib\\site-packages\\pandas\\io\\parsers.py\u001b[0m in \u001b[0;36m_make_engine\u001b[1;34m(self, engine)\u001b[0m\n\u001b[0;32m   1047\u001b[0m     \u001b[1;32mdef\u001b[0m \u001b[0m_make_engine\u001b[0m\u001b[1;33m(\u001b[0m\u001b[0mself\u001b[0m\u001b[1;33m,\u001b[0m \u001b[0mengine\u001b[0m\u001b[1;33m=\u001b[0m\u001b[1;34m'c'\u001b[0m\u001b[1;33m)\u001b[0m\u001b[1;33m:\u001b[0m\u001b[1;33m\u001b[0m\u001b[0m\n\u001b[0;32m   1048\u001b[0m         \u001b[1;32mif\u001b[0m \u001b[0mengine\u001b[0m \u001b[1;33m==\u001b[0m \u001b[1;34m'c'\u001b[0m\u001b[1;33m:\u001b[0m\u001b[1;33m\u001b[0m\u001b[0m\n\u001b[1;32m-> 1049\u001b[1;33m             \u001b[0mself\u001b[0m\u001b[1;33m.\u001b[0m\u001b[0m_engine\u001b[0m \u001b[1;33m=\u001b[0m \u001b[0mCParserWrapper\u001b[0m\u001b[1;33m(\u001b[0m\u001b[0mself\u001b[0m\u001b[1;33m.\u001b[0m\u001b[0mf\u001b[0m\u001b[1;33m,\u001b[0m \u001b[1;33m**\u001b[0m\u001b[0mself\u001b[0m\u001b[1;33m.\u001b[0m\u001b[0moptions\u001b[0m\u001b[1;33m)\u001b[0m\u001b[1;33m\u001b[0m\u001b[0m\n\u001b[0m\u001b[0;32m   1050\u001b[0m         \u001b[1;32melse\u001b[0m\u001b[1;33m:\u001b[0m\u001b[1;33m\u001b[0m\u001b[0m\n\u001b[0;32m   1051\u001b[0m             \u001b[1;32mif\u001b[0m \u001b[0mengine\u001b[0m \u001b[1;33m==\u001b[0m \u001b[1;34m'python'\u001b[0m\u001b[1;33m:\u001b[0m\u001b[1;33m\u001b[0m\u001b[0m\n",
      "\u001b[1;32mC:\\Apps\\Anaconda\\envs\\py36\\lib\\site-packages\\pandas\\io\\parsers.py\u001b[0m in \u001b[0;36m__init__\u001b[1;34m(self, src, **kwds)\u001b[0m\n\u001b[0;32m   1693\u001b[0m         \u001b[0mkwds\u001b[0m\u001b[1;33m[\u001b[0m\u001b[1;34m'allow_leading_cols'\u001b[0m\u001b[1;33m]\u001b[0m \u001b[1;33m=\u001b[0m \u001b[0mself\u001b[0m\u001b[1;33m.\u001b[0m\u001b[0mindex_col\u001b[0m \u001b[1;32mis\u001b[0m \u001b[1;32mnot\u001b[0m \u001b[1;32mFalse\u001b[0m\u001b[1;33m\u001b[0m\u001b[0m\n\u001b[0;32m   1694\u001b[0m \u001b[1;33m\u001b[0m\u001b[0m\n\u001b[1;32m-> 1695\u001b[1;33m         \u001b[0mself\u001b[0m\u001b[1;33m.\u001b[0m\u001b[0m_reader\u001b[0m \u001b[1;33m=\u001b[0m \u001b[0mparsers\u001b[0m\u001b[1;33m.\u001b[0m\u001b[0mTextReader\u001b[0m\u001b[1;33m(\u001b[0m\u001b[0msrc\u001b[0m\u001b[1;33m,\u001b[0m \u001b[1;33m**\u001b[0m\u001b[0mkwds\u001b[0m\u001b[1;33m)\u001b[0m\u001b[1;33m\u001b[0m\u001b[0m\n\u001b[0m\u001b[0;32m   1696\u001b[0m \u001b[1;33m\u001b[0m\u001b[0m\n\u001b[0;32m   1697\u001b[0m         \u001b[1;31m# XXX\u001b[0m\u001b[1;33m\u001b[0m\u001b[1;33m\u001b[0m\u001b[0m\n",
      "\u001b[1;32mpandas/_libs/parsers.pyx\u001b[0m in \u001b[0;36mpandas._libs.parsers.TextReader.__cinit__\u001b[1;34m()\u001b[0m\n",
      "\u001b[1;32mpandas/_libs/parsers.pyx\u001b[0m in \u001b[0;36mpandas._libs.parsers.TextReader._setup_parser_source\u001b[1;34m()\u001b[0m\n",
      "\u001b[1;31mFileNotFoundError\u001b[0m: File b'C:/Apps/Ddrive_BSP_Projects/NDI_cmap/Jason_AI_Map_254.cmap' does not exist"
     ]
    }
   ],
   "source": [
    "#\n",
    "isFirst=True\n",
    "#\n",
    "for row in range(len(dm)):\n",
    "    #\n",
    "    print('\\n')\n",
    "    print('-------------------------------------------------------------------------------')\n",
    "    print('Analyzing sand '+str(dm.iloc[row]['sand']))\n",
    "    print('-------------------------------------------------------------------------------')\n",
    "    #\n",
    "    map_depth=input_dir_maps_dep+dm.iloc[row]['map_dep']\n",
    "    map_amp_full=input_dir_maps_amp_full+dm.iloc[row]['map_amp']\n",
    "    map_amp_near=input_dir_maps_amp_near+dm.iloc[row]['map_amp']\n",
    "    map_amp_far=input_dir_maps_amp_far+dm.iloc[row]['map_amp']\n",
    "    polygon=input_dir_polys+dm.iloc[row]['sand']+'.txt'\n",
    "    properties=input_dir_props+'wells_sands_properties.csv'\n",
    "    #\n",
    "    d_tmp=DHI_analysis_v3(map_depth,map_amp_full,map_amp_far,map_amp_near,polygon,properties,dm.iloc[row]['sand'],'tmpQI')\n",
    "    #\n",
    "    d_tmp['sand']=dm.iloc[row]['sand']\n",
    "    #\n",
    "    if isFirst:\n",
    "        d_dhi=d_tmp.copy()\n",
    "        isFirst=False\n",
    "    else:\n",
    "        d_dhi=pd.concat([d_dhi,d_tmp]).copy()"
   ]
  },
  {
   "cell_type": "code",
   "execution_count": null,
   "metadata": {
    "collapsed": true
   },
   "outputs": [],
   "source": [
    "d_dhi"
   ]
  },
  {
   "cell_type": "code",
   "execution_count": null,
   "metadata": {
    "collapsed": true
   },
   "outputs": [],
   "source": []
  }
 ],
 "metadata": {
  "kernelspec": {
   "display_name": "Python 3",
   "language": "python",
   "name": "python3"
  },
  "language_info": {
   "codemirror_mode": {
    "name": "ipython",
    "version": 3
   },
   "file_extension": ".py",
   "mimetype": "text/x-python",
   "name": "python",
   "nbconvert_exporter": "python",
   "pygments_lexer": "ipython3",
   "version": "3.6.6"
  }
 },
 "nbformat": 4,
 "nbformat_minor": 2
}
